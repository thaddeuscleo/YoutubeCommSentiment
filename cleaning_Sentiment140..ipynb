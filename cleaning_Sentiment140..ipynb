{
 "metadata": {
  "language_info": {
   "codemirror_mode": {
    "name": "ipython",
    "version": 3
   },
   "file_extension": ".py",
   "mimetype": "text/x-python",
   "name": "python",
   "nbconvert_exporter": "python",
   "pygments_lexer": "ipython3",
   "version": "3.7.9"
  },
  "orig_nbformat": 4,
  "kernelspec": {
   "name": "python3",
   "display_name": "Python 3.7.9 64-bit ('RTCS-Project-TK6T2O2l': virtualenvwrapper)"
  },
  "interpreter": {
   "hash": "aaffc771ab3e1b511944eb201398ab124d88cd191bf8d8cee26b05c4de67aafe"
  }
 },
 "nbformat": 4,
 "nbformat_minor": 2,
 "cells": [
  {
   "cell_type": "code",
   "execution_count": 4,
   "metadata": {},
   "outputs": [
    {
     "output_type": "execute_result",
     "data": {
      "text/plain": [
       "   polarity          id                          date     query  \\\n",
       "0         0  1467810369  Mon Apr 06 22:19:45 PDT 2009  NO_QUERY   \n",
       "1         0  1467810672  Mon Apr 06 22:19:49 PDT 2009  NO_QUERY   \n",
       "2         0  1467810917  Mon Apr 06 22:19:53 PDT 2009  NO_QUERY   \n",
       "3         0  1467811184  Mon Apr 06 22:19:57 PDT 2009  NO_QUERY   \n",
       "4         0  1467811193  Mon Apr 06 22:19:57 PDT 2009  NO_QUERY   \n",
       "\n",
       "              user                                               text  \n",
       "0  _TheSpecialOne_  @switchfoot http://twitpic.com/2y1zl - Awww, t...  \n",
       "1    scotthamilton  is upset that he can't update his Facebook by ...  \n",
       "2         mattycus  @Kenichan I dived many times for the ball. Man...  \n",
       "3          ElleCTF    my whole body feels itchy and like its on fire   \n",
       "4           Karoli  @nationwideclass no, it's not behaving at all....  "
      ],
      "text/html": "<div>\n<style scoped>\n    .dataframe tbody tr th:only-of-type {\n        vertical-align: middle;\n    }\n\n    .dataframe tbody tr th {\n        vertical-align: top;\n    }\n\n    .dataframe thead th {\n        text-align: right;\n    }\n</style>\n<table border=\"1\" class=\"dataframe\">\n  <thead>\n    <tr style=\"text-align: right;\">\n      <th></th>\n      <th>polarity</th>\n      <th>id</th>\n      <th>date</th>\n      <th>query</th>\n      <th>user</th>\n      <th>text</th>\n    </tr>\n  </thead>\n  <tbody>\n    <tr>\n      <th>0</th>\n      <td>0</td>\n      <td>1467810369</td>\n      <td>Mon Apr 06 22:19:45 PDT 2009</td>\n      <td>NO_QUERY</td>\n      <td>_TheSpecialOne_</td>\n      <td>@switchfoot http://twitpic.com/2y1zl - Awww, t...</td>\n    </tr>\n    <tr>\n      <th>1</th>\n      <td>0</td>\n      <td>1467810672</td>\n      <td>Mon Apr 06 22:19:49 PDT 2009</td>\n      <td>NO_QUERY</td>\n      <td>scotthamilton</td>\n      <td>is upset that he can't update his Facebook by ...</td>\n    </tr>\n    <tr>\n      <th>2</th>\n      <td>0</td>\n      <td>1467810917</td>\n      <td>Mon Apr 06 22:19:53 PDT 2009</td>\n      <td>NO_QUERY</td>\n      <td>mattycus</td>\n      <td>@Kenichan I dived many times for the ball. Man...</td>\n    </tr>\n    <tr>\n      <th>3</th>\n      <td>0</td>\n      <td>1467811184</td>\n      <td>Mon Apr 06 22:19:57 PDT 2009</td>\n      <td>NO_QUERY</td>\n      <td>ElleCTF</td>\n      <td>my whole body feels itchy and like its on fire</td>\n    </tr>\n    <tr>\n      <th>4</th>\n      <td>0</td>\n      <td>1467811193</td>\n      <td>Mon Apr 06 22:19:57 PDT 2009</td>\n      <td>NO_QUERY</td>\n      <td>Karoli</td>\n      <td>@nationwideclass no, it's not behaving at all....</td>\n    </tr>\n  </tbody>\n</table>\n</div>"
     },
     "metadata": {},
     "execution_count": 4
    }
   ],
   "source": [
    "import pandas as pd \n",
    "\n",
    "df = pd.read_csv('./training.1600000.processed.noemoticon.csv', names=['polarity', 'id', 'date', 'query', 'user', 'text'], encoding='latin-1')\n",
    "df.head()"
   ]
  },
  {
   "cell_type": "code",
   "execution_count": 5,
   "metadata": {},
   "outputs": [
    {
     "output_type": "execute_result",
     "data": {
      "text/plain": [
       "0    800000\n",
       "4    800000\n",
       "Name: polarity, dtype: int64"
      ]
     },
     "metadata": {},
     "execution_count": 5
    }
   ],
   "source": [
    "df.polarity.value_counts()"
   ]
  },
  {
   "cell_type": "code",
   "execution_count": 6,
   "metadata": {},
   "outputs": [
    {
     "output_type": "execute_result",
     "data": {
      "text/plain": [
       "   polarity                                               text\n",
       "0         0  @switchfoot http://twitpic.com/2y1zl - Awww, t...\n",
       "1         0  is upset that he can't update his Facebook by ...\n",
       "2         0  @Kenichan I dived many times for the ball. Man...\n",
       "3         0    my whole body feels itchy and like its on fire \n",
       "4         0  @nationwideclass no, it's not behaving at all....\n",
       "5         0                      @Kwesidei not the whole crew \n",
       "6         0                                        Need a hug \n",
       "7         0  @LOLTrish hey  long time no see! Yes.. Rains a...\n",
       "8         0               @Tatiana_K nope they didn't have it \n",
       "9         0                          @twittera que me muera ? "
      ],
      "text/html": "<div>\n<style scoped>\n    .dataframe tbody tr th:only-of-type {\n        vertical-align: middle;\n    }\n\n    .dataframe tbody tr th {\n        vertical-align: top;\n    }\n\n    .dataframe thead th {\n        text-align: right;\n    }\n</style>\n<table border=\"1\" class=\"dataframe\">\n  <thead>\n    <tr style=\"text-align: right;\">\n      <th></th>\n      <th>polarity</th>\n      <th>text</th>\n    </tr>\n  </thead>\n  <tbody>\n    <tr>\n      <th>0</th>\n      <td>0</td>\n      <td>@switchfoot http://twitpic.com/2y1zl - Awww, t...</td>\n    </tr>\n    <tr>\n      <th>1</th>\n      <td>0</td>\n      <td>is upset that he can't update his Facebook by ...</td>\n    </tr>\n    <tr>\n      <th>2</th>\n      <td>0</td>\n      <td>@Kenichan I dived many times for the ball. Man...</td>\n    </tr>\n    <tr>\n      <th>3</th>\n      <td>0</td>\n      <td>my whole body feels itchy and like its on fire</td>\n    </tr>\n    <tr>\n      <th>4</th>\n      <td>0</td>\n      <td>@nationwideclass no, it's not behaving at all....</td>\n    </tr>\n    <tr>\n      <th>5</th>\n      <td>0</td>\n      <td>@Kwesidei not the whole crew</td>\n    </tr>\n    <tr>\n      <th>6</th>\n      <td>0</td>\n      <td>Need a hug</td>\n    </tr>\n    <tr>\n      <th>7</th>\n      <td>0</td>\n      <td>@LOLTrish hey  long time no see! Yes.. Rains a...</td>\n    </tr>\n    <tr>\n      <th>8</th>\n      <td>0</td>\n      <td>@Tatiana_K nope they didn't have it</td>\n    </tr>\n    <tr>\n      <th>9</th>\n      <td>0</td>\n      <td>@twittera que me muera ?</td>\n    </tr>\n  </tbody>\n</table>\n</div>"
     },
     "metadata": {},
     "execution_count": 6
    }
   ],
   "source": [
    "df.drop(columns=['id', 'date', 'query', 'user'], axis=1, inplace=True)\n",
    "df[df.polarity == 0].head(10)"
   ]
  },
  {
   "cell_type": "code",
   "execution_count": 7,
   "metadata": {},
   "outputs": [
    {
     "output_type": "execute_result",
     "data": {
      "text/plain": [
       "        polarity                                               text\n",
       "800000         4       I LOVE @Health4UandPets u guys r the best!! \n",
       "800001         4  im meeting up with one of my besties tonight! ...\n",
       "800002         4  @DaRealSunisaKim Thanks for the Twitter add, S...\n",
       "800003         4  Being sick can be really cheap when it hurts t...\n",
       "800004         4    @LovesBrooklyn2 he has that effect on everyone \n",
       "800005         4  @ProductOfFear You can tell him that I just bu...\n",
       "800006         4  @r_keith_hill Thans for your response. Ihad al...\n",
       "800007         4  @KeepinUpWKris I am so jealous, hope you had a...\n",
       "800008         4  @tommcfly ah, congrats mr fletcher for finally...\n",
       "800009         4  @e4VoIP I RESPONDED  Stupid cat is helping me ..."
      ],
      "text/html": "<div>\n<style scoped>\n    .dataframe tbody tr th:only-of-type {\n        vertical-align: middle;\n    }\n\n    .dataframe tbody tr th {\n        vertical-align: top;\n    }\n\n    .dataframe thead th {\n        text-align: right;\n    }\n</style>\n<table border=\"1\" class=\"dataframe\">\n  <thead>\n    <tr style=\"text-align: right;\">\n      <th></th>\n      <th>polarity</th>\n      <th>text</th>\n    </tr>\n  </thead>\n  <tbody>\n    <tr>\n      <th>800000</th>\n      <td>4</td>\n      <td>I LOVE @Health4UandPets u guys r the best!!</td>\n    </tr>\n    <tr>\n      <th>800001</th>\n      <td>4</td>\n      <td>im meeting up with one of my besties tonight! ...</td>\n    </tr>\n    <tr>\n      <th>800002</th>\n      <td>4</td>\n      <td>@DaRealSunisaKim Thanks for the Twitter add, S...</td>\n    </tr>\n    <tr>\n      <th>800003</th>\n      <td>4</td>\n      <td>Being sick can be really cheap when it hurts t...</td>\n    </tr>\n    <tr>\n      <th>800004</th>\n      <td>4</td>\n      <td>@LovesBrooklyn2 he has that effect on everyone</td>\n    </tr>\n    <tr>\n      <th>800005</th>\n      <td>4</td>\n      <td>@ProductOfFear You can tell him that I just bu...</td>\n    </tr>\n    <tr>\n      <th>800006</th>\n      <td>4</td>\n      <td>@r_keith_hill Thans for your response. Ihad al...</td>\n    </tr>\n    <tr>\n      <th>800007</th>\n      <td>4</td>\n      <td>@KeepinUpWKris I am so jealous, hope you had a...</td>\n    </tr>\n    <tr>\n      <th>800008</th>\n      <td>4</td>\n      <td>@tommcfly ah, congrats mr fletcher for finally...</td>\n    </tr>\n    <tr>\n      <th>800009</th>\n      <td>4</td>\n      <td>@e4VoIP I RESPONDED  Stupid cat is helping me ...</td>\n    </tr>\n  </tbody>\n</table>\n</div>"
     },
     "metadata": {},
     "execution_count": 7
    }
   ],
   "source": [
    "df[df.polarity == 4].head(10)"
   ]
  },
  {
   "cell_type": "code",
   "execution_count": 8,
   "metadata": {},
   "outputs": [],
   "source": [
    "df['pre_clean_len'] = [len(t) for t in df.text]"
   ]
  },
  {
   "cell_type": "code",
   "execution_count": 9,
   "metadata": {},
   "outputs": [
    {
     "output_type": "stream",
     "name": "stdout",
     "text": [
      "{'dataset:shape': (1600000, 3),\n 'sentiment': {'description': 'sentiment class - 0:negative, 1:positive',\n               'type': dtype('int64')},\n 'text': {'description': 'Length of the tweet before cleaning',\n          'type': dtype('O')}}\n"
     ]
    }
   ],
   "source": [
    "from pprint import pprint\n",
    "data_dict = {\n",
    "    'sentiment' : {\n",
    "        'type' : df.polarity.dtype,\n",
    "        'description' : 'sentiment class - 0:negative, 1:positive'\n",
    "    },\n",
    "    'text' : {\n",
    "        'type' : df.text.dtype,\n",
    "        'description' : 'Length of the tweet before cleaning'\n",
    "    }, \n",
    "    'dataset:shape' : df.shape \n",
    "}\n",
    "\n",
    "pprint(data_dict)"
   ]
  },
  {
   "cell_type": "code",
   "execution_count": 10,
   "metadata": {},
   "outputs": [
    {
     "output_type": "display_data",
     "data": {
      "text/plain": "<Figure size 360x360 with 1 Axes>",
      "image/svg+xml": "<?xml version=\"1.0\" encoding=\"utf-8\" standalone=\"no\"?>\r\n<!DOCTYPE svg PUBLIC \"-//W3C//DTD SVG 1.1//EN\"\r\n  \"http://www.w3.org/Graphics/SVG/1.1/DTD/svg11.dtd\">\r\n<svg height=\"302.878125pt\" version=\"1.1\" viewBox=\"0 0 319.4875 302.878125\" width=\"319.4875pt\" xmlns=\"http://www.w3.org/2000/svg\" xmlns:xlink=\"http://www.w3.org/1999/xlink\">\r\n <metadata>\r\n  <rdf:RDF xmlns:cc=\"http://creativecommons.org/ns#\" xmlns:dc=\"http://purl.org/dc/elements/1.1/\" xmlns:rdf=\"http://www.w3.org/1999/02/22-rdf-syntax-ns#\">\r\n   <cc:Work>\r\n    <dc:type rdf:resource=\"http://purl.org/dc/dcmitype/StillImage\"/>\r\n    <dc:date>2021-06-14T21:11:24.458148</dc:date>\r\n    <dc:format>image/svg+xml</dc:format>\r\n    <dc:creator>\r\n     <cc:Agent>\r\n      <dc:title>Matplotlib v3.4.2, https://matplotlib.org/</dc:title>\r\n     </cc:Agent>\r\n    </dc:creator>\r\n   </cc:Work>\r\n  </rdf:RDF>\r\n </metadata>\r\n <defs>\r\n  <style type=\"text/css\">*{stroke-linecap:butt;stroke-linejoin:round;}</style>\r\n </defs>\r\n <g id=\"figure_1\">\r\n  <g id=\"patch_1\">\r\n   <path d=\"M -0 302.878125 \r\nL 319.4875 302.878125 \r\nL 319.4875 0 \r\nL -0 0 \r\nz\r\n\" style=\"fill:none;\"/>\r\n  </g>\r\n  <g id=\"axes_1\">\r\n   <g id=\"patch_2\">\r\n    <path d=\"M 33.2875 279 \r\nL 312.2875 279 \r\nL 312.2875 7.2 \r\nL 33.2875 7.2 \r\nz\r\n\" style=\"fill:#ffffff;\"/>\r\n   </g>\r\n   <g id=\"matplotlib.axis_1\">\r\n    <g id=\"xtick_1\">\r\n     <g id=\"line2d_1\">\r\n      <defs>\r\n       <path d=\"M 0 0 \r\nL 0 3.5 \r\n\" id=\"m7f6de3e28e\" style=\"stroke:#000000;stroke-width:0.8;\"/>\r\n      </defs>\r\n      <g>\r\n       <use style=\"stroke:#000000;stroke-width:0.8;\" x=\"172.7875\" xlink:href=\"#m7f6de3e28e\" y=\"279\"/>\r\n      </g>\r\n     </g>\r\n     <g id=\"text_1\">\r\n      <!-- 1 -->\r\n      <g transform=\"translate(169.60625 293.598437)scale(0.1 -0.1)\">\r\n       <defs>\r\n        <path d=\"M 794 531 \r\nL 1825 531 \r\nL 1825 4091 \r\nL 703 3866 \r\nL 703 4441 \r\nL 1819 4666 \r\nL 2450 4666 \r\nL 2450 531 \r\nL 3481 531 \r\nL 3481 0 \r\nL 794 0 \r\nL 794 531 \r\nz\r\n\" id=\"DejaVuSans-31\" transform=\"scale(0.015625)\"/>\r\n       </defs>\r\n       <use xlink:href=\"#DejaVuSans-31\"/>\r\n      </g>\r\n     </g>\r\n    </g>\r\n   </g>\r\n   <g id=\"matplotlib.axis_2\">\r\n    <g id=\"ytick_1\">\r\n     <g id=\"line2d_2\">\r\n      <defs>\r\n       <path d=\"M 0 0 \r\nL -3.5 0 \r\n\" id=\"mb89406cb47\" style=\"stroke:#000000;stroke-width:0.8;\"/>\r\n      </defs>\r\n      <g>\r\n       <use style=\"stroke:#000000;stroke-width:0.8;\" x=\"33.2875\" xlink:href=\"#mb89406cb47\" y=\"270.674111\"/>\r\n      </g>\r\n     </g>\r\n     <g id=\"text_2\">\r\n      <!-- 0 -->\r\n      <g transform=\"translate(19.925 274.473329)scale(0.1 -0.1)\">\r\n       <defs>\r\n        <path d=\"M 2034 4250 \r\nQ 1547 4250 1301 3770 \r\nQ 1056 3291 1056 2328 \r\nQ 1056 1369 1301 889 \r\nQ 1547 409 2034 409 \r\nQ 2525 409 2770 889 \r\nQ 3016 1369 3016 2328 \r\nQ 3016 3291 2770 3770 \r\nQ 2525 4250 2034 4250 \r\nz\r\nM 2034 4750 \r\nQ 2819 4750 3233 4129 \r\nQ 3647 3509 3647 2328 \r\nQ 3647 1150 3233 529 \r\nQ 2819 -91 2034 -91 \r\nQ 1250 -91 836 529 \r\nQ 422 1150 422 2328 \r\nQ 422 3509 836 4129 \r\nQ 1250 4750 2034 4750 \r\nz\r\n\" id=\"DejaVuSans-30\" transform=\"scale(0.015625)\"/>\r\n       </defs>\r\n       <use xlink:href=\"#DejaVuSans-30\"/>\r\n      </g>\r\n     </g>\r\n    </g>\r\n    <g id=\"ytick_2\">\r\n     <g id=\"line2d_3\">\r\n      <g>\r\n       <use style=\"stroke:#000000;stroke-width:0.8;\" x=\"33.2875\" xlink:href=\"#mb89406cb47\" y=\"237.101976\"/>\r\n      </g>\r\n     </g>\r\n     <g id=\"text_3\">\r\n      <!-- 50 -->\r\n      <g transform=\"translate(13.5625 240.901195)scale(0.1 -0.1)\">\r\n       <defs>\r\n        <path d=\"M 691 4666 \r\nL 3169 4666 \r\nL 3169 4134 \r\nL 1269 4134 \r\nL 1269 2991 \r\nQ 1406 3038 1543 3061 \r\nQ 1681 3084 1819 3084 \r\nQ 2600 3084 3056 2656 \r\nQ 3513 2228 3513 1497 \r\nQ 3513 744 3044 326 \r\nQ 2575 -91 1722 -91 \r\nQ 1428 -91 1123 -41 \r\nQ 819 9 494 109 \r\nL 494 744 \r\nQ 775 591 1075 516 \r\nQ 1375 441 1709 441 \r\nQ 2250 441 2565 725 \r\nQ 2881 1009 2881 1497 \r\nQ 2881 1984 2565 2268 \r\nQ 2250 2553 1709 2553 \r\nQ 1456 2553 1204 2497 \r\nQ 953 2441 691 2322 \r\nL 691 4666 \r\nz\r\n\" id=\"DejaVuSans-35\" transform=\"scale(0.015625)\"/>\r\n       </defs>\r\n       <use xlink:href=\"#DejaVuSans-35\"/>\r\n       <use x=\"63.623047\" xlink:href=\"#DejaVuSans-30\"/>\r\n      </g>\r\n     </g>\r\n    </g>\r\n    <g id=\"ytick_3\">\r\n     <g id=\"line2d_4\">\r\n      <g>\r\n       <use style=\"stroke:#000000;stroke-width:0.8;\" x=\"33.2875\" xlink:href=\"#mb89406cb47\" y=\"203.529842\"/>\r\n      </g>\r\n     </g>\r\n     <g id=\"text_4\">\r\n      <!-- 100 -->\r\n      <g transform=\"translate(7.2 207.329061)scale(0.1 -0.1)\">\r\n       <use xlink:href=\"#DejaVuSans-31\"/>\r\n       <use x=\"63.623047\" xlink:href=\"#DejaVuSans-30\"/>\r\n       <use x=\"127.246094\" xlink:href=\"#DejaVuSans-30\"/>\r\n      </g>\r\n     </g>\r\n    </g>\r\n    <g id=\"ytick_4\">\r\n     <g id=\"line2d_5\">\r\n      <g>\r\n       <use style=\"stroke:#000000;stroke-width:0.8;\" x=\"33.2875\" xlink:href=\"#mb89406cb47\" y=\"169.957708\"/>\r\n      </g>\r\n     </g>\r\n     <g id=\"text_5\">\r\n      <!-- 150 -->\r\n      <g transform=\"translate(7.2 173.756926)scale(0.1 -0.1)\">\r\n       <use xlink:href=\"#DejaVuSans-31\"/>\r\n       <use x=\"63.623047\" xlink:href=\"#DejaVuSans-35\"/>\r\n       <use x=\"127.246094\" xlink:href=\"#DejaVuSans-30\"/>\r\n      </g>\r\n     </g>\r\n    </g>\r\n    <g id=\"ytick_5\">\r\n     <g id=\"line2d_6\">\r\n      <g>\r\n       <use style=\"stroke:#000000;stroke-width:0.8;\" x=\"33.2875\" xlink:href=\"#mb89406cb47\" y=\"136.385573\"/>\r\n      </g>\r\n     </g>\r\n     <g id=\"text_6\">\r\n      <!-- 200 -->\r\n      <g transform=\"translate(7.2 140.184792)scale(0.1 -0.1)\">\r\n       <defs>\r\n        <path d=\"M 1228 531 \r\nL 3431 531 \r\nL 3431 0 \r\nL 469 0 \r\nL 469 531 \r\nQ 828 903 1448 1529 \r\nQ 2069 2156 2228 2338 \r\nQ 2531 2678 2651 2914 \r\nQ 2772 3150 2772 3378 \r\nQ 2772 3750 2511 3984 \r\nQ 2250 4219 1831 4219 \r\nQ 1534 4219 1204 4116 \r\nQ 875 4013 500 3803 \r\nL 500 4441 \r\nQ 881 4594 1212 4672 \r\nQ 1544 4750 1819 4750 \r\nQ 2544 4750 2975 4387 \r\nQ 3406 4025 3406 3419 \r\nQ 3406 3131 3298 2873 \r\nQ 3191 2616 2906 2266 \r\nQ 2828 2175 2409 1742 \r\nQ 1991 1309 1228 531 \r\nz\r\n\" id=\"DejaVuSans-32\" transform=\"scale(0.015625)\"/>\r\n       </defs>\r\n       <use xlink:href=\"#DejaVuSans-32\"/>\r\n       <use x=\"63.623047\" xlink:href=\"#DejaVuSans-30\"/>\r\n       <use x=\"127.246094\" xlink:href=\"#DejaVuSans-30\"/>\r\n      </g>\r\n     </g>\r\n    </g>\r\n    <g id=\"ytick_6\">\r\n     <g id=\"line2d_7\">\r\n      <g>\r\n       <use style=\"stroke:#000000;stroke-width:0.8;\" x=\"33.2875\" xlink:href=\"#mb89406cb47\" y=\"102.813439\"/>\r\n      </g>\r\n     </g>\r\n     <g id=\"text_7\">\r\n      <!-- 250 -->\r\n      <g transform=\"translate(7.2 106.612657)scale(0.1 -0.1)\">\r\n       <use xlink:href=\"#DejaVuSans-32\"/>\r\n       <use x=\"63.623047\" xlink:href=\"#DejaVuSans-35\"/>\r\n       <use x=\"127.246094\" xlink:href=\"#DejaVuSans-30\"/>\r\n      </g>\r\n     </g>\r\n    </g>\r\n    <g id=\"ytick_7\">\r\n     <g id=\"line2d_8\">\r\n      <g>\r\n       <use style=\"stroke:#000000;stroke-width:0.8;\" x=\"33.2875\" xlink:href=\"#mb89406cb47\" y=\"69.241304\"/>\r\n      </g>\r\n     </g>\r\n     <g id=\"text_8\">\r\n      <!-- 300 -->\r\n      <g transform=\"translate(7.2 73.040523)scale(0.1 -0.1)\">\r\n       <defs>\r\n        <path d=\"M 2597 2516 \r\nQ 3050 2419 3304 2112 \r\nQ 3559 1806 3559 1356 \r\nQ 3559 666 3084 287 \r\nQ 2609 -91 1734 -91 \r\nQ 1441 -91 1130 -33 \r\nQ 819 25 488 141 \r\nL 488 750 \r\nQ 750 597 1062 519 \r\nQ 1375 441 1716 441 \r\nQ 2309 441 2620 675 \r\nQ 2931 909 2931 1356 \r\nQ 2931 1769 2642 2001 \r\nQ 2353 2234 1838 2234 \r\nL 1294 2234 \r\nL 1294 2753 \r\nL 1863 2753 \r\nQ 2328 2753 2575 2939 \r\nQ 2822 3125 2822 3475 \r\nQ 2822 3834 2567 4026 \r\nQ 2313 4219 1838 4219 \r\nQ 1578 4219 1281 4162 \r\nQ 984 4106 628 3988 \r\nL 628 4550 \r\nQ 988 4650 1302 4700 \r\nQ 1616 4750 1894 4750 \r\nQ 2613 4750 3031 4423 \r\nQ 3450 4097 3450 3541 \r\nQ 3450 3153 3228 2886 \r\nQ 3006 2619 2597 2516 \r\nz\r\n\" id=\"DejaVuSans-33\" transform=\"scale(0.015625)\"/>\r\n       </defs>\r\n       <use xlink:href=\"#DejaVuSans-33\"/>\r\n       <use x=\"63.623047\" xlink:href=\"#DejaVuSans-30\"/>\r\n       <use x=\"127.246094\" xlink:href=\"#DejaVuSans-30\"/>\r\n      </g>\r\n     </g>\r\n    </g>\r\n    <g id=\"ytick_8\">\r\n     <g id=\"line2d_9\">\r\n      <g>\r\n       <use style=\"stroke:#000000;stroke-width:0.8;\" x=\"33.2875\" xlink:href=\"#mb89406cb47\" y=\"35.66917\"/>\r\n      </g>\r\n     </g>\r\n     <g id=\"text_9\">\r\n      <!-- 350 -->\r\n      <g transform=\"translate(7.2 39.468389)scale(0.1 -0.1)\">\r\n       <use xlink:href=\"#DejaVuSans-33\"/>\r\n       <use x=\"63.623047\" xlink:href=\"#DejaVuSans-35\"/>\r\n       <use x=\"127.246094\" xlink:href=\"#DejaVuSans-30\"/>\r\n      </g>\r\n     </g>\r\n    </g>\r\n   </g>\r\n   <g id=\"line2d_10\">\r\n    <path clip-path=\"url(#pe9336eefd0)\" d=\"M 151.8625 241.130632 \r\nL 193.7125 241.130632 \r\nL 193.7125 200.844071 \r\nL 151.8625 200.844071 \r\nL 151.8625 241.130632 \r\n\" style=\"fill:none;stroke:#000000;stroke-linecap:square;\"/>\r\n   </g>\r\n   <g id=\"line2d_11\">\r\n    <path clip-path=\"url(#pe9336eefd0)\" d=\"M 172.7875 241.130632 \r\nL 172.7875 266.645455 \r\n\" style=\"fill:none;stroke:#000000;stroke-linecap:square;\"/>\r\n   </g>\r\n   <g id=\"line2d_12\">\r\n    <path clip-path=\"url(#pe9336eefd0)\" d=\"M 172.7875 200.844071 \r\nL 172.7875 140.414229 \r\n\" style=\"fill:none;stroke:#000000;stroke-linecap:square;\"/>\r\n   </g>\r\n   <g id=\"line2d_13\">\r\n    <path clip-path=\"url(#pe9336eefd0)\" d=\"M 162.325 266.645455 \r\nL 183.25 266.645455 \r\n\" style=\"fill:none;stroke:#000000;stroke-linecap:square;\"/>\r\n   </g>\r\n   <g id=\"line2d_14\">\r\n    <path clip-path=\"url(#pe9336eefd0)\" d=\"M 162.325 140.414229 \r\nL 183.25 140.414229 \r\n\" style=\"fill:none;stroke:#000000;stroke-linecap:square;\"/>\r\n   </g>\r\n   <g id=\"line2d_15\">\r\n    <defs>\r\n     <path d=\"M 0 3 \r\nC 0.795609 3 1.55874 2.683901 2.12132 2.12132 \r\nC 2.683901 1.55874 3 0.795609 3 0 \r\nC 3 -0.795609 2.683901 -1.55874 2.12132 -2.12132 \r\nC 1.55874 -2.683901 0.795609 -3 0 -3 \r\nC -0.795609 -3 -1.55874 -2.683901 -2.12132 -2.12132 \r\nC -2.683901 -1.55874 -3 -0.795609 -3 0 \r\nC -3 0.795609 -2.683901 1.55874 -2.12132 2.12132 \r\nC -1.55874 2.683901 -0.795609 3 0 3 \r\nz\r\n\" id=\"mf10ba15900\" style=\"stroke:#000000;\"/>\r\n    </defs>\r\n    <g clip-path=\"url(#pe9336eefd0)\">\r\n     <use style=\"fill-opacity:0;stroke:#000000;\" x=\"172.7875\" xlink:href=\"#mf10ba15900\" y=\"118.928063\"/>\r\n     <use style=\"fill-opacity:0;stroke:#000000;\" x=\"172.7875\" xlink:href=\"#mf10ba15900\" y=\"138.399901\"/>\r\n     <use style=\"fill-opacity:0;stroke:#000000;\" x=\"172.7875\" xlink:href=\"#mf10ba15900\" y=\"127.656818\"/>\r\n     <use style=\"fill-opacity:0;stroke:#000000;\" x=\"172.7875\" xlink:href=\"#mf10ba15900\" y=\"128.999704\"/>\r\n     <use style=\"fill-opacity:0;stroke:#000000;\" x=\"172.7875\" xlink:href=\"#mf10ba15900\" y=\"118.256621\"/>\r\n     <use style=\"fill-opacity:0;stroke:#000000;\" x=\"172.7875\" xlink:href=\"#mf10ba15900\" y=\"112.213636\"/>\r\n     <use style=\"fill-opacity:0;stroke:#000000;\" x=\"172.7875\" xlink:href=\"#mf10ba15900\" y=\"131.685474\"/>\r\n     <use style=\"fill-opacity:0;stroke:#000000;\" x=\"172.7875\" xlink:href=\"#mf10ba15900\" y=\"119.599506\"/>\r\n     <use style=\"fill-opacity:0;stroke:#000000;\" x=\"172.7875\" xlink:href=\"#mf10ba15900\" y=\"136.385573\"/>\r\n     <use style=\"fill-opacity:0;stroke:#000000;\" x=\"172.7875\" xlink:href=\"#mf10ba15900\" y=\"115.57085\"/>\r\n     <use style=\"fill-opacity:0;stroke:#000000;\" x=\"172.7875\" xlink:href=\"#mf10ba15900\" y=\"132.356917\"/>\r\n     <use style=\"fill-opacity:0;stroke:#000000;\" x=\"172.7875\" xlink:href=\"#mf10ba15900\" y=\"106.842095\"/>\r\n     <use style=\"fill-opacity:0;stroke:#000000;\" x=\"172.7875\" xlink:href=\"#mf10ba15900\" y=\"135.71413\"/>\r\n     <use style=\"fill-opacity:0;stroke:#000000;\" x=\"172.7875\" xlink:href=\"#mf10ba15900\" y=\"120.942391\"/>\r\n     <use style=\"fill-opacity:0;stroke:#000000;\" x=\"172.7875\" xlink:href=\"#mf10ba15900\" y=\"29.626186\"/>\r\n     <use style=\"fill-opacity:0;stroke:#000000;\" x=\"172.7875\" xlink:href=\"#mf10ba15900\" y=\"138.399901\"/>\r\n     <use style=\"fill-opacity:0;stroke:#000000;\" x=\"172.7875\" xlink:href=\"#mf10ba15900\" y=\"124.971047\"/>\r\n     <use style=\"fill-opacity:0;stroke:#000000;\" x=\"172.7875\" xlink:href=\"#mf10ba15900\" y=\"116.913735\"/>\r\n     <use style=\"fill-opacity:0;stroke:#000000;\" x=\"172.7875\" xlink:href=\"#mf10ba15900\" y=\"123.628162\"/>\r\n     <use style=\"fill-opacity:0;stroke:#000000;\" x=\"172.7875\" xlink:href=\"#mf10ba15900\" y=\"133.02836\"/>\r\n     <use style=\"fill-opacity:0;stroke:#000000;\" x=\"172.7875\" xlink:href=\"#mf10ba15900\" y=\"115.57085\"/>\r\n     <use style=\"fill-opacity:0;stroke:#000000;\" x=\"172.7875\" xlink:href=\"#mf10ba15900\" y=\"135.71413\"/>\r\n     <use style=\"fill-opacity:0;stroke:#000000;\" x=\"172.7875\" xlink:href=\"#mf10ba15900\" y=\"106.170652\"/>\r\n     <use style=\"fill-opacity:0;stroke:#000000;\" x=\"172.7875\" xlink:href=\"#mf10ba15900\" y=\"130.342589\"/>\r\n     <use style=\"fill-opacity:0;stroke:#000000;\" x=\"172.7875\" xlink:href=\"#mf10ba15900\" y=\"108.18498\"/>\r\n     <use style=\"fill-opacity:0;stroke:#000000;\" x=\"172.7875\" xlink:href=\"#mf10ba15900\" y=\"37.012055\"/>\r\n     <use style=\"fill-opacity:0;stroke:#000000;\" x=\"172.7875\" xlink:href=\"#mf10ba15900\" y=\"73.26996\"/>\r\n     <use style=\"fill-opacity:0;stroke:#000000;\" x=\"172.7875\" xlink:href=\"#mf10ba15900\" y=\"122.956719\"/>\r\n     <use style=\"fill-opacity:0;stroke:#000000;\" x=\"172.7875\" xlink:href=\"#mf10ba15900\" y=\"118.928063\"/>\r\n     <use style=\"fill-opacity:0;stroke:#000000;\" x=\"172.7875\" xlink:href=\"#mf10ba15900\" y=\"137.057016\"/>\r\n     <use style=\"fill-opacity:0;stroke:#000000;\" x=\"172.7875\" xlink:href=\"#mf10ba15900\" y=\"81.327273\"/>\r\n     <use style=\"fill-opacity:0;stroke:#000000;\" x=\"172.7875\" xlink:href=\"#mf10ba15900\" y=\"135.042688\"/>\r\n     <use style=\"fill-opacity:0;stroke:#000000;\" x=\"172.7875\" xlink:href=\"#mf10ba15900\" y=\"118.928063\"/>\r\n     <use style=\"fill-opacity:0;stroke:#000000;\" x=\"172.7875\" xlink:href=\"#mf10ba15900\" y=\"132.356917\"/>\r\n     <use style=\"fill-opacity:0;stroke:#000000;\" x=\"172.7875\" xlink:href=\"#mf10ba15900\" y=\"84.013043\"/>\r\n     <use style=\"fill-opacity:0;stroke:#000000;\" x=\"172.7875\" xlink:href=\"#mf10ba15900\" y=\"131.014032\"/>\r\n     <use style=\"fill-opacity:0;stroke:#000000;\" x=\"172.7875\" xlink:href=\"#mf10ba15900\" y=\"114.227964\"/>\r\n     <use style=\"fill-opacity:0;stroke:#000000;\" x=\"172.7875\" xlink:href=\"#mf10ba15900\" y=\"124.299605\"/>\r\n     <use style=\"fill-opacity:0;stroke:#000000;\" x=\"172.7875\" xlink:href=\"#mf10ba15900\" y=\"137.057016\"/>\r\n     <use style=\"fill-opacity:0;stroke:#000000;\" x=\"172.7875\" xlink:href=\"#mf10ba15900\" y=\"61.183992\"/>\r\n     <use style=\"fill-opacity:0;stroke:#000000;\" x=\"172.7875\" xlink:href=\"#mf10ba15900\" y=\"127.656818\"/>\r\n     <use style=\"fill-opacity:0;stroke:#000000;\" x=\"172.7875\" xlink:href=\"#mf10ba15900\" y=\"139.742787\"/>\r\n     <use style=\"fill-opacity:0;stroke:#000000;\" x=\"172.7875\" xlink:href=\"#mf10ba15900\" y=\"124.299605\"/>\r\n     <use style=\"fill-opacity:0;stroke:#000000;\" x=\"172.7875\" xlink:href=\"#mf10ba15900\" y=\"122.956719\"/>\r\n     <use style=\"fill-opacity:0;stroke:#000000;\" x=\"172.7875\" xlink:href=\"#mf10ba15900\" y=\"139.071344\"/>\r\n     <use style=\"fill-opacity:0;stroke:#000000;\" x=\"172.7875\" xlink:href=\"#mf10ba15900\" y=\"112.885079\"/>\r\n     <use style=\"fill-opacity:0;stroke:#000000;\" x=\"172.7875\" xlink:href=\"#mf10ba15900\" y=\"133.02836\"/>\r\n     <use style=\"fill-opacity:0;stroke:#000000;\" x=\"172.7875\" xlink:href=\"#mf10ba15900\" y=\"53.798123\"/>\r\n     <use style=\"fill-opacity:0;stroke:#000000;\" x=\"172.7875\" xlink:href=\"#mf10ba15900\" y=\"139.742787\"/>\r\n     <use style=\"fill-opacity:0;stroke:#000000;\" x=\"172.7875\" xlink:href=\"#mf10ba15900\" y=\"126.313933\"/>\r\n     <use style=\"fill-opacity:0;stroke:#000000;\" x=\"172.7875\" xlink:href=\"#mf10ba15900\" y=\"131.685474\"/>\r\n     <use style=\"fill-opacity:0;stroke:#000000;\" x=\"172.7875\" xlink:href=\"#mf10ba15900\" y=\"112.213636\"/>\r\n     <use style=\"fill-opacity:0;stroke:#000000;\" x=\"172.7875\" xlink:href=\"#mf10ba15900\" y=\"135.042688\"/>\r\n     <use style=\"fill-opacity:0;stroke:#000000;\" x=\"172.7875\" xlink:href=\"#mf10ba15900\" y=\"69.912747\"/>\r\n     <use style=\"fill-opacity:0;stroke:#000000;\" x=\"172.7875\" xlink:href=\"#mf10ba15900\" y=\"128.328261\"/>\r\n     <use style=\"fill-opacity:0;stroke:#000000;\" x=\"172.7875\" xlink:href=\"#mf10ba15900\" y=\"108.18498\"/>\r\n     <use style=\"fill-opacity:0;stroke:#000000;\" x=\"172.7875\" xlink:href=\"#mf10ba15900\" y=\"128.999704\"/>\r\n     <use style=\"fill-opacity:0;stroke:#000000;\" x=\"172.7875\" xlink:href=\"#mf10ba15900\" y=\"135.71413\"/>\r\n     <use style=\"fill-opacity:0;stroke:#000000;\" x=\"172.7875\" xlink:href=\"#mf10ba15900\" y=\"107.513538\"/>\r\n     <use style=\"fill-opacity:0;stroke:#000000;\" x=\"172.7875\" xlink:href=\"#mf10ba15900\" y=\"135.042688\"/>\r\n     <use style=\"fill-opacity:0;stroke:#000000;\" x=\"172.7875\" xlink:href=\"#mf10ba15900\" y=\"101.470553\"/>\r\n     <use style=\"fill-opacity:0;stroke:#000000;\" x=\"172.7875\" xlink:href=\"#mf10ba15900\" y=\"139.071344\"/>\r\n     <use style=\"fill-opacity:0;stroke:#000000;\" x=\"172.7875\" xlink:href=\"#mf10ba15900\" y=\"135.71413\"/>\r\n     <use style=\"fill-opacity:0;stroke:#000000;\" x=\"172.7875\" xlink:href=\"#mf10ba15900\" y=\"19.554545\"/>\r\n     <use style=\"fill-opacity:0;stroke:#000000;\" x=\"172.7875\" xlink:href=\"#mf10ba15900\" y=\"93.413241\"/>\r\n     <use style=\"fill-opacity:0;stroke:#000000;\" x=\"172.7875\" xlink:href=\"#mf10ba15900\" y=\"86.698814\"/>\r\n     <use style=\"fill-opacity:0;stroke:#000000;\" x=\"172.7875\" xlink:href=\"#mf10ba15900\" y=\"139.071344\"/>\r\n     <use style=\"fill-opacity:0;stroke:#000000;\" x=\"172.7875\" xlink:href=\"#mf10ba15900\" y=\"133.02836\"/>\r\n     <use style=\"fill-opacity:0;stroke:#000000;\" x=\"172.7875\" xlink:href=\"#mf10ba15900\" y=\"127.656818\"/>\r\n     <use style=\"fill-opacity:0;stroke:#000000;\" x=\"172.7875\" xlink:href=\"#mf10ba15900\" y=\"114.227964\"/>\r\n     <use style=\"fill-opacity:0;stroke:#000000;\" x=\"172.7875\" xlink:href=\"#mf10ba15900\" y=\"71.927075\"/>\r\n     <use style=\"fill-opacity:0;stroke:#000000;\" x=\"172.7875\" xlink:href=\"#mf10ba15900\" y=\"112.885079\"/>\r\n     <use style=\"fill-opacity:0;stroke:#000000;\" x=\"172.7875\" xlink:href=\"#mf10ba15900\" y=\"118.928063\"/>\r\n     <use style=\"fill-opacity:0;stroke:#000000;\" x=\"172.7875\" xlink:href=\"#mf10ba15900\" y=\"125.64249\"/>\r\n     <use style=\"fill-opacity:0;stroke:#000000;\" x=\"172.7875\" xlink:href=\"#mf10ba15900\" y=\"59.841107\"/>\r\n     <use style=\"fill-opacity:0;stroke:#000000;\" x=\"172.7875\" xlink:href=\"#mf10ba15900\" y=\"131.014032\"/>\r\n     <use style=\"fill-opacity:0;stroke:#000000;\" x=\"172.7875\" xlink:href=\"#mf10ba15900\" y=\"114.899407\"/>\r\n     <use style=\"fill-opacity:0;stroke:#000000;\" x=\"172.7875\" xlink:href=\"#mf10ba15900\" y=\"114.899407\"/>\r\n     <use style=\"fill-opacity:0;stroke:#000000;\" x=\"172.7875\" xlink:href=\"#mf10ba15900\" y=\"138.399901\"/>\r\n     <use style=\"fill-opacity:0;stroke:#000000;\" x=\"172.7875\" xlink:href=\"#mf10ba15900\" y=\"131.014032\"/>\r\n     <use style=\"fill-opacity:0;stroke:#000000;\" x=\"172.7875\" xlink:href=\"#mf10ba15900\" y=\"121.613834\"/>\r\n     <use style=\"fill-opacity:0;stroke:#000000;\" x=\"172.7875\" xlink:href=\"#mf10ba15900\" y=\"104.156324\"/>\r\n     <use style=\"fill-opacity:0;stroke:#000000;\" x=\"172.7875\" xlink:href=\"#mf10ba15900\" y=\"111.542194\"/>\r\n     <use style=\"fill-opacity:0;stroke:#000000;\" x=\"172.7875\" xlink:href=\"#mf10ba15900\" y=\"130.342589\"/>\r\n     <use style=\"fill-opacity:0;stroke:#000000;\" x=\"172.7875\" xlink:href=\"#mf10ba15900\" y=\"126.313933\"/>\r\n     <use style=\"fill-opacity:0;stroke:#000000;\" x=\"172.7875\" xlink:href=\"#mf10ba15900\" y=\"116.242292\"/>\r\n     <use style=\"fill-opacity:0;stroke:#000000;\" x=\"172.7875\" xlink:href=\"#mf10ba15900\" y=\"131.014032\"/>\r\n     <use style=\"fill-opacity:0;stroke:#000000;\" x=\"172.7875\" xlink:href=\"#mf10ba15900\" y=\"137.057016\"/>\r\n     <use style=\"fill-opacity:0;stroke:#000000;\" x=\"172.7875\" xlink:href=\"#mf10ba15900\" y=\"114.227964\"/>\r\n     <use style=\"fill-opacity:0;stroke:#000000;\" x=\"172.7875\" xlink:href=\"#mf10ba15900\" y=\"133.699802\"/>\r\n     <use style=\"fill-opacity:0;stroke:#000000;\" x=\"172.7875\" xlink:href=\"#mf10ba15900\" y=\"51.783794\"/>\r\n     <use style=\"fill-opacity:0;stroke:#000000;\" x=\"172.7875\" xlink:href=\"#mf10ba15900\" y=\"89.384585\"/>\r\n     <use style=\"fill-opacity:0;stroke:#000000;\" x=\"172.7875\" xlink:href=\"#mf10ba15900\" y=\"125.64249\"/>\r\n     <use style=\"fill-opacity:0;stroke:#000000;\" x=\"172.7875\" xlink:href=\"#mf10ba15900\" y=\"81.327273\"/>\r\n     <use style=\"fill-opacity:0;stroke:#000000;\" x=\"172.7875\" xlink:href=\"#mf10ba15900\" y=\"126.985375\"/>\r\n     <use style=\"fill-opacity:0;stroke:#000000;\" x=\"172.7875\" xlink:href=\"#mf10ba15900\" y=\"122.285277\"/>\r\n     <use style=\"fill-opacity:0;stroke:#000000;\" x=\"172.7875\" xlink:href=\"#mf10ba15900\" y=\"112.885079\"/>\r\n     <use style=\"fill-opacity:0;stroke:#000000;\" x=\"172.7875\" xlink:href=\"#mf10ba15900\" y=\"138.399901\"/>\r\n     <use style=\"fill-opacity:0;stroke:#000000;\" x=\"172.7875\" xlink:href=\"#mf10ba15900\" y=\"122.285277\"/>\r\n     <use style=\"fill-opacity:0;stroke:#000000;\" x=\"172.7875\" xlink:href=\"#mf10ba15900\" y=\"137.728458\"/>\r\n     <use style=\"fill-opacity:0;stroke:#000000;\" x=\"172.7875\" xlink:href=\"#mf10ba15900\" y=\"121.613834\"/>\r\n     <use style=\"fill-opacity:0;stroke:#000000;\" x=\"172.7875\" xlink:href=\"#mf10ba15900\" y=\"127.656818\"/>\r\n     <use style=\"fill-opacity:0;stroke:#000000;\" x=\"172.7875\" xlink:href=\"#mf10ba15900\" y=\"110.199308\"/>\r\n     <use style=\"fill-opacity:0;stroke:#000000;\" x=\"172.7875\" xlink:href=\"#mf10ba15900\" y=\"112.213636\"/>\r\n     <use style=\"fill-opacity:0;stroke:#000000;\" x=\"172.7875\" xlink:href=\"#mf10ba15900\" y=\"108.856423\"/>\r\n     <use style=\"fill-opacity:0;stroke:#000000;\" x=\"172.7875\" xlink:href=\"#mf10ba15900\" y=\"114.227964\"/>\r\n     <use style=\"fill-opacity:0;stroke:#000000;\" x=\"172.7875\" xlink:href=\"#mf10ba15900\" y=\"123.628162\"/>\r\n     <use style=\"fill-opacity:0;stroke:#000000;\" x=\"172.7875\" xlink:href=\"#mf10ba15900\" y=\"60.512549\"/>\r\n     <use style=\"fill-opacity:0;stroke:#000000;\" x=\"172.7875\" xlink:href=\"#mf10ba15900\" y=\"139.071344\"/>\r\n     <use style=\"fill-opacity:0;stroke:#000000;\" x=\"172.7875\" xlink:href=\"#mf10ba15900\" y=\"133.02836\"/>\r\n     <use style=\"fill-opacity:0;stroke:#000000;\" x=\"172.7875\" xlink:href=\"#mf10ba15900\" y=\"139.071344\"/>\r\n     <use style=\"fill-opacity:0;stroke:#000000;\" x=\"172.7875\" xlink:href=\"#mf10ba15900\" y=\"71.927075\"/>\r\n     <use style=\"fill-opacity:0;stroke:#000000;\" x=\"172.7875\" xlink:href=\"#mf10ba15900\" y=\"128.328261\"/>\r\n     <use style=\"fill-opacity:0;stroke:#000000;\" x=\"172.7875\" xlink:href=\"#mf10ba15900\" y=\"137.057016\"/>\r\n     <use style=\"fill-opacity:0;stroke:#000000;\" x=\"172.7875\" xlink:href=\"#mf10ba15900\" y=\"114.899407\"/>\r\n     <use style=\"fill-opacity:0;stroke:#000000;\" x=\"172.7875\" xlink:href=\"#mf10ba15900\" y=\"108.856423\"/>\r\n     <use style=\"fill-opacity:0;stroke:#000000;\" x=\"172.7875\" xlink:href=\"#mf10ba15900\" y=\"99.456225\"/>\r\n     <use style=\"fill-opacity:0;stroke:#000000;\" x=\"172.7875\" xlink:href=\"#mf10ba15900\" y=\"112.885079\"/>\r\n     <use style=\"fill-opacity:0;stroke:#000000;\" x=\"172.7875\" xlink:href=\"#mf10ba15900\" y=\"88.713142\"/>\r\n     <use style=\"fill-opacity:0;stroke:#000000;\" x=\"172.7875\" xlink:href=\"#mf10ba15900\" y=\"139.742787\"/>\r\n     <use style=\"fill-opacity:0;stroke:#000000;\" x=\"172.7875\" xlink:href=\"#mf10ba15900\" y=\"50.440909\"/>\r\n     <use style=\"fill-opacity:0;stroke:#000000;\" x=\"172.7875\" xlink:href=\"#mf10ba15900\" y=\"110.199308\"/>\r\n     <use style=\"fill-opacity:0;stroke:#000000;\" x=\"172.7875\" xlink:href=\"#mf10ba15900\" y=\"122.956719\"/>\r\n     <use style=\"fill-opacity:0;stroke:#000000;\" x=\"172.7875\" xlink:href=\"#mf10ba15900\" y=\"108.856423\"/>\r\n     <use style=\"fill-opacity:0;stroke:#000000;\" x=\"172.7875\" xlink:href=\"#mf10ba15900\" y=\"124.299605\"/>\r\n     <use style=\"fill-opacity:0;stroke:#000000;\" x=\"172.7875\" xlink:href=\"#mf10ba15900\" y=\"114.899407\"/>\r\n     <use style=\"fill-opacity:0;stroke:#000000;\" x=\"172.7875\" xlink:href=\"#mf10ba15900\" y=\"114.899407\"/>\r\n     <use style=\"fill-opacity:0;stroke:#000000;\" x=\"172.7875\" xlink:href=\"#mf10ba15900\" y=\"69.241304\"/>\r\n     <use style=\"fill-opacity:0;stroke:#000000;\" x=\"172.7875\" xlink:href=\"#mf10ba15900\" y=\"106.170652\"/>\r\n     <use style=\"fill-opacity:0;stroke:#000000;\" x=\"172.7875\" xlink:href=\"#mf10ba15900\" y=\"139.071344\"/>\r\n     <use style=\"fill-opacity:0;stroke:#000000;\" x=\"172.7875\" xlink:href=\"#mf10ba15900\" y=\"123.628162\"/>\r\n     <use style=\"fill-opacity:0;stroke:#000000;\" x=\"172.7875\" xlink:href=\"#mf10ba15900\" y=\"122.956719\"/>\r\n     <use style=\"fill-opacity:0;stroke:#000000;\" x=\"172.7875\" xlink:href=\"#mf10ba15900\" y=\"127.656818\"/>\r\n     <use style=\"fill-opacity:0;stroke:#000000;\" x=\"172.7875\" xlink:href=\"#mf10ba15900\" y=\"129.671146\"/>\r\n     <use style=\"fill-opacity:0;stroke:#000000;\" x=\"172.7875\" xlink:href=\"#mf10ba15900\" y=\"128.999704\"/>\r\n     <use style=\"fill-opacity:0;stroke:#000000;\" x=\"172.7875\" xlink:href=\"#mf10ba15900\" y=\"129.671146\"/>\r\n     <use style=\"fill-opacity:0;stroke:#000000;\" x=\"172.7875\" xlink:href=\"#mf10ba15900\" y=\"116.913735\"/>\r\n     <use style=\"fill-opacity:0;stroke:#000000;\" x=\"172.7875\" xlink:href=\"#mf10ba15900\" y=\"121.613834\"/>\r\n     <use style=\"fill-opacity:0;stroke:#000000;\" x=\"172.7875\" xlink:href=\"#mf10ba15900\" y=\"22.911759\"/>\r\n     <use style=\"fill-opacity:0;stroke:#000000;\" x=\"172.7875\" xlink:href=\"#mf10ba15900\" y=\"133.699802\"/>\r\n     <use style=\"fill-opacity:0;stroke:#000000;\" x=\"172.7875\" xlink:href=\"#mf10ba15900\" y=\"118.256621\"/>\r\n     <use style=\"fill-opacity:0;stroke:#000000;\" x=\"172.7875\" xlink:href=\"#mf10ba15900\" y=\"125.64249\"/>\r\n     <use style=\"fill-opacity:0;stroke:#000000;\" x=\"172.7875\" xlink:href=\"#mf10ba15900\" y=\"84.013043\"/>\r\n     <use style=\"fill-opacity:0;stroke:#000000;\" x=\"172.7875\" xlink:href=\"#mf10ba15900\" y=\"139.071344\"/>\r\n     <use style=\"fill-opacity:0;stroke:#000000;\" x=\"172.7875\" xlink:href=\"#mf10ba15900\" y=\"135.042688\"/>\r\n     <use style=\"fill-opacity:0;stroke:#000000;\" x=\"172.7875\" xlink:href=\"#mf10ba15900\" y=\"29.626186\"/>\r\n     <use style=\"fill-opacity:0;stroke:#000000;\" x=\"172.7875\" xlink:href=\"#mf10ba15900\" y=\"139.071344\"/>\r\n    </g>\r\n   </g>\r\n   <g id=\"line2d_16\">\r\n    <path clip-path=\"url(#pe9336eefd0)\" d=\"M 151.8625 224.344565 \r\nL 193.7125 224.344565 \r\n\" style=\"fill:none;stroke:#ff7f0e;stroke-linecap:square;\"/>\r\n   </g>\r\n   <g id=\"patch_3\">\r\n    <path d=\"M 33.2875 279 \r\nL 33.2875 7.2 \r\n\" style=\"fill:none;stroke:#000000;stroke-linecap:square;stroke-linejoin:miter;stroke-width:0.8;\"/>\r\n   </g>\r\n   <g id=\"patch_4\">\r\n    <path d=\"M 312.2875 279 \r\nL 312.2875 7.2 \r\n\" style=\"fill:none;stroke:#000000;stroke-linecap:square;stroke-linejoin:miter;stroke-width:0.8;\"/>\r\n   </g>\r\n   <g id=\"patch_5\">\r\n    <path d=\"M 33.2875 279 \r\nL 312.2875 279 \r\n\" style=\"fill:none;stroke:#000000;stroke-linecap:square;stroke-linejoin:miter;stroke-width:0.8;\"/>\r\n   </g>\r\n   <g id=\"patch_6\">\r\n    <path d=\"M 33.2875 7.2 \r\nL 312.2875 7.2 \r\n\" style=\"fill:none;stroke:#000000;stroke-linecap:square;stroke-linejoin:miter;stroke-width:0.8;\"/>\r\n   </g>\r\n  </g>\r\n </g>\r\n <defs>\r\n  <clipPath id=\"pe9336eefd0\">\r\n   <rect height=\"271.8\" width=\"279\" x=\"33.2875\" y=\"7.2\"/>\r\n  </clipPath>\r\n </defs>\r\n</svg>\r\n",
      "image/png": "[encoded data removed]"
     },
     "metadata": {
      "needs_background": "light"
     }
    }
   ],
   "source": [
    "import matplotlib.pyplot as plt \n",
    "\n",
    "fig, ax = plt.subplots(figsize=(5,5))\n",
    "plt.boxplot(df.pre_clean_len)\n",
    "plt.show()"
   ]
  },
  {
   "cell_type": "code",
   "execution_count": 11,
   "metadata": {},
   "outputs": [
    {
     "output_type": "execute_result",
     "data": {
      "text/plain": [
       "      polarity                                               text  \\\n",
       "213          0  Awwh babs... you look so sad underneith that s...   \n",
       "226          0  Tuesdayï¿½ll start with reflection ï¿½n then a...   \n",
       "279          0  Whinging. My client&amp;boss don't understand ...   \n",
       "343          0  @TheLeagueSF Not Fun &amp; Furious? The new ma...   \n",
       "400          0  #3 woke up and was having an accident - &quot;...   \n",
       "464          0  My bathtub drain is fired: it haz 1 job 2 do, ...   \n",
       "492          0  pears &amp; Brie, bottle of Cabernet, and &quo...   \n",
       "747          0  Have an invite for &quot;Healthy Dining&quot; ...   \n",
       "957          0  Damnit I was really digging this season of Rea...   \n",
       "1064         0  Why do I keep looking...I know that what I rea...   \n",
       "\n",
       "      pre_clean_len  \n",
       "213             142  \n",
       "226             141  \n",
       "279             145  \n",
       "343             145  \n",
       "400             144  \n",
       "464             146  \n",
       "492             150  \n",
       "747             141  \n",
       "957             141  \n",
       "1064            141  "
      ],
      "text/html": "<div>\n<style scoped>\n    .dataframe tbody tr th:only-of-type {\n        vertical-align: middle;\n    }\n\n    .dataframe tbody tr th {\n        vertical-align: top;\n    }\n\n    .dataframe thead th {\n        text-align: right;\n    }\n</style>\n<table border=\"1\" class=\"dataframe\">\n  <thead>\n    <tr style=\"text-align: right;\">\n      <th></th>\n      <th>polarity</th>\n      <th>text</th>\n      <th>pre_clean_len</th>\n    </tr>\n  </thead>\n  <tbody>\n    <tr>\n      <th>213</th>\n      <td>0</td>\n      <td>Awwh babs... you look so sad underneith that s...</td>\n      <td>142</td>\n    </tr>\n    <tr>\n      <th>226</th>\n      <td>0</td>\n      <td>Tuesdayï¿½ll start with reflection ï¿½n then a...</td>\n      <td>141</td>\n    </tr>\n    <tr>\n      <th>279</th>\n      <td>0</td>\n      <td>Whinging. My client&amp;amp;boss don't understand ...</td>\n      <td>145</td>\n    </tr>\n    <tr>\n      <th>343</th>\n      <td>0</td>\n      <td>@TheLeagueSF Not Fun &amp;amp; Furious? The new ma...</td>\n      <td>145</td>\n    </tr>\n    <tr>\n      <th>400</th>\n      <td>0</td>\n      <td>#3 woke up and was having an accident - &amp;quot;...</td>\n      <td>144</td>\n    </tr>\n    <tr>\n      <th>464</th>\n      <td>0</td>\n      <td>My bathtub drain is fired: it haz 1 job 2 do, ...</td>\n      <td>146</td>\n    </tr>\n    <tr>\n      <th>492</th>\n      <td>0</td>\n      <td>pears &amp;amp; Brie, bottle of Cabernet, and &amp;quo...</td>\n      <td>150</td>\n    </tr>\n    <tr>\n      <th>747</th>\n      <td>0</td>\n      <td>Have an invite for &amp;quot;Healthy Dining&amp;quot; ...</td>\n      <td>141</td>\n    </tr>\n    <tr>\n      <th>957</th>\n      <td>0</td>\n      <td>Damnit I was really digging this season of Rea...</td>\n      <td>141</td>\n    </tr>\n    <tr>\n      <th>1064</th>\n      <td>0</td>\n      <td>Why do I keep looking...I know that what I rea...</td>\n      <td>141</td>\n    </tr>\n  </tbody>\n</table>\n</div>"
     },
     "metadata": {},
     "execution_count": 11
    }
   ],
   "source": [
    "df[df.pre_clean_len > 140].head(10)"
   ]
  },
  {
   "cell_type": "code",
   "execution_count": 17,
   "metadata": {},
   "outputs": [
    {
     "output_type": "execute_result",
     "data": {
      "text/plain": [
       "\"Whinging. My client&boss don't understand English well. Rewrote some text unreadable. It's written by v. good writer&reviewed correctly. \""
      ]
     },
     "metadata": {},
     "execution_count": 17
    }
   ],
   "source": [
    "from bs4 import BeautifulSoup\n",
    "import re\n",
    "example1 = BeautifulSoup(df.text[279], 'lxml')\n",
    "example1.get_text()"
   ]
  },
  {
   "cell_type": "code",
   "execution_count": 18,
   "metadata": {},
   "outputs": [
    {
     "output_type": "execute_result",
     "data": {
      "text/plain": [
       "['awww that s a bummer you shoulda got david carr of third day to do it d',\n",
       " 'is upset that he can t update his facebook by texting it and might cry as a result school today also blah',\n",
       " 'i dived many times for the ball managed to save the rest go out of bounds',\n",
       " 'my whole body feels itchy and like its on fire',\n",
       " 'no it s not behaving at all i m mad why am i here because i can t see you all over there',\n",
       " 'not the whole crew',\n",
       " 'need a hug',\n",
       " 'hey long time no see yes rains a bit only a bit lol i m fine thanks how s you',\n",
       " 'k nope they didn t have it',\n",
       " 'que me muera',\n",
       " 'spring break in plain city it s snowing',\n",
       " 'i just re pierced my ears',\n",
       " 'i couldn t bear to watch it and i thought the ua loss was embarrassing',\n",
       " 'it it counts idk why i did either you never talk to me anymore',\n",
       " 'i would ve been the first but i didn t have a gun not really though zac snyder s just a doucheclown',\n",
       " 'i wish i got to watch it with you i miss you and how was the premiere',\n",
       " 'hollis death scene will hurt me severely to watch on film wry is directors cut not out now',\n",
       " 'about to file taxes',\n",
       " 'ahh ive always wanted to see rent love the soundtrack',\n",
       " 'oh dear were you drinking out of the forgotten table drinks',\n",
       " 'i was out most of the day so didn t get much done',\n",
       " 'one of my friend called me and asked to meet with her at mid valley today but i ve no time sigh',\n",
       " 'barista i baked you a cake but i ated it',\n",
       " 'this week is not going as i had hoped',\n",
       " 'blagh class at tomorrow',\n",
       " 'i hate when i have to call and wake people up',\n",
       " 'just going to cry myself to sleep after watching marley and me',\n",
       " 'im sad now miss lilly',\n",
       " 'ooooh lol that leslie and ok i won t do it again so leslie won t get mad again',\n",
       " 'meh almost lover is the exception this track gets me depressed every time',\n",
       " 'some hacked my account on aim now i have to make a new one',\n",
       " 'i want to go to promote gear and groove but unfornately no ride there i may b going to the one in anaheim in may though',\n",
       " 'thought sleeping in was an option tomorrow but realizing that it now is not evaluations in the morning and work in the afternoon',\n",
       " 'awe i love you too am here i miss you',\n",
       " 'i cry my asian eyes to sleep at night',\n",
       " 'ok i m sick and spent an hour sitting in the shower cause i was too sick to stand and held back the puke like a champ bed now',\n",
       " 'ill tell ya the story later not a good day and ill be workin for like three more hours',\n",
       " 'sorry bed time came here gmt',\n",
       " 'i don t either its depressing i don t think i even want to know about the kids in suitcases',\n",
       " 'bed class work gym or then class another day that s gonna fly by i miss my girlfriend',\n",
       " 'really don t feel like getting up today but got to study to for tomorrows practical exam',\n",
       " 'he s the reason for the teardrops on my guitar the only one who has enough of me to break my heart',\n",
       " 'sad sad sad i don t know why but i hate this feeling i wanna sleep and i still can t',\n",
       " 'awww i soo wish i was there to see you finally comfortable im sad that i missed it',\n",
       " 'falling asleep just heard about that tracy girl s body being found how sad my heart breaks for that family',\n",
       " 'yay i m happy for you with your job but that also means less time for me and you',\n",
       " 'just checked my user timeline on my blackberry it looks like the twanking is still happening are ppl still having probs w bgs and uids',\n",
       " 'oh man was ironing s fave top to wear to a meeting burnt it',\n",
       " 'is strangely sad about lilo and samro breaking up',\n",
       " 'oh i m so sorry i didn t think about that before retweeting',\n",
       " 'broadband plan a massive broken promise via www diigo com tautao still waiting for broadband we are',\n",
       " 'wow tons of replies from you may have to unfollow so i can see my friends tweets you re scrolling the feed a lot',\n",
       " 'our duck and chicken are taking wayyy too long to hatch',\n",
       " 'put vacation photos online a few yrs ago pc crashed and now i forget the name of the site',\n",
       " 'i need a hug',\n",
       " 'not sure what they are only that they are pos as much as i want to i dont think can trade away company assets sorry andy',\n",
       " 'i hate when that happens',\n",
       " 'i have a sad feeling that dallas is not going to show up i gotta say though you d think more shows would use music from the game mmm',\n",
       " 'ugh degrees tomorrow',\n",
       " 'where did u move to i thought u were already in sd hmmm random u found me glad to hear yer doing well',\n",
       " 'i miss my ps it s out of commission wutcha playing have you copped blood on the sand',\n",
       " 'just leaving the parking lot of work',\n",
       " 'the life is cool but not for me',\n",
       " 'sadly though i ve never gotten to experience the post coitus cigarette before and now i never will',\n",
       " 'i had such a nice day too bad the rain comes in tomorrow at am',\n",
       " 'too bad i won t be around i lost my job and can t even pay my phone bill lmao aw shucks',\n",
       " 'damm back to school tomorrow',\n",
       " 'mo jobs no money how in the hell is min wage here f n clams an hour',\n",
       " 'not forever see you soon',\n",
       " 'algonquin agreed i saw the failwhale allllll day today',\n",
       " 'oh haha dude i dont really look at em unless someone says hey i added you sorry i m so terrible at that i need a pop up',\n",
       " 'i m sure you re right i need to start working out with you and the nikster or jared at least',\n",
       " 'i really hate how people diss my bands trace is clearly not ugly',\n",
       " 'gym attire today was puma singlet adidas shorts and black business socks and leather shoes lucky did not run into any cute girls',\n",
       " 'why won t you show my location',\n",
       " 'no picnic my phone smells like citrus',\n",
       " 'my donkey is sensitive about such comments nevertheless he d and me d be glad to see your mug asap charger is still awol',\n",
       " 'no new csi tonight fml',\n",
       " 'i think my arms are sore from tennis',\n",
       " 'wonders why someone that u like so much can make you so unhappy in a split seccond depressed',\n",
       " 'sleep soon i just hate saying bye and see you tomorrow for the night',\n",
       " 'just got ur newsletter those fares really are unbelievable shame i already booked and paid for mine',\n",
       " 'missin the boo',\n",
       " 'me too itm',\n",
       " 'damn i don t have any chalk my chalkboard is useless',\n",
       " 'had a blast at the getty villa but hates that she s had a sore throat all day it s just getting worse too',\n",
       " 'hey missed ya at the meeting sup mama',\n",
       " 'my tummy hurts i wonder if the hypnosis has anything to do with it if so it s working i get it stop smoking',\n",
       " 'why is it always the fat ones',\n",
       " 'sorry babe my fam annoys me too thankfully they re asleep right now muahaha evil laugh',\n",
       " 'i should have paid more attention when we covered photoshop in my webpage design class in undergrad',\n",
       " 'wednesday my b day don t know what do',\n",
       " 'poor cameron the hills',\n",
       " 'pray for me please the ex is threatening to start sh at my our babies st birthday party what a jerk and i still have a headache',\n",
       " 'hmm do u really enjoy being with him if the problems are too constants u should think things more find someone ulike',\n",
       " 'strider is a sick little puppy',\n",
       " 'so rylee grace wana go steve s party or not sadly since its easter i wnt b able do much but ohh well',\n",
       " 'hey i actually won one of my bracket pools too bad it wasn t the one for money',\n",
       " 'you don t follow me either and i work for you',\n",
       " 'a bad nite for the favorite teams astros and spartans lose the nite out with t w was good']"
      ]
     },
     "metadata": {},
     "execution_count": 18
    }
   ],
   "source": [
    "from nltk.tokenize import WordPunctTokenizer\n",
    "tok = WordPunctTokenizer()\n",
    "pat1 = r'@[A-Za-z0-9]+'\n",
    "pat2 = r'https?://[A-Za-z0-9./]+'\n",
    "combined_pat = r'|'.join((pat1, pat2))\n",
    "\n",
    "def tweet_cleaner(text):\n",
    "    soup = BeautifulSoup(text, 'lxml')\n",
    "    souped = soup.get_text()\n",
    "    stripped = re.sub(combined_pat, '', souped)\n",
    "    try:\n",
    "        clean = stripped.decode(\"utf-8-sig\").replace(u\"\\ufffd\", \"?\")\n",
    "    except:\n",
    "        clean = stripped\n",
    "    letters_only = re.sub(\"[^a-zA-Z]\", \" \", clean)\n",
    "    lower_case = letters_only.lower()\n",
    "    # During the letters_only process two lines above, it has created unnecessay white spaces,\n",
    "    # I will tokenize and join together to remove unneccessary white spaces\n",
    "    words = tok.tokenize(lower_case)\n",
    "    return (\" \".join(words)).strip()\n",
    "\n",
    "testing = df.text[:100]\n",
    "test_result = []\n",
    "\n",
    "for t in testing:\n",
    "    test_result.append(tweet_cleaner(t))\n",
    "test_result"
   ]
  },
  {
   "cell_type": "code",
   "execution_count": 24,
   "metadata": {},
   "outputs": [
    {
     "output_type": "stream",
     "name": "stdout",
     "text": [
      "Cleaning and parsing the tweets...\n",
      "\n",
      "Tweets 10000 of 400000 has been processed\n",
      "Tweets 20000 of 400000 has been processed\n",
      "Tweets 30000 of 400000 has been processed\n",
      "Tweets 40000 of 400000 has been processed\n",
      "Tweets 50000 of 400000 has been processed\n",
      "Tweets 60000 of 400000 has been processed\n",
      "Tweets 70000 of 400000 has been processed\n",
      "Tweets 80000 of 400000 has been processed\n",
      "Tweets 90000 of 400000 has been processed\n",
      "Tweets 100000 of 400000 has been processed\n",
      "Tweets 110000 of 400000 has been processed\n",
      "Tweets 120000 of 400000 has been processed\n",
      "Tweets 130000 of 400000 has been processed\n",
      "Tweets 140000 of 400000 has been processed\n",
      "Tweets 150000 of 400000 has been processed\n",
      "Tweets 160000 of 400000 has been processed\n",
      "Tweets 170000 of 400000 has been processed\n",
      "Tweets 180000 of 400000 has been processed\n",
      "Tweets 190000 of 400000 has been processed\n",
      "Tweets 200000 of 400000 has been processed\n",
      "Tweets 210000 of 400000 has been processed\n",
      "Tweets 220000 of 400000 has been processed\n",
      "Tweets 230000 of 400000 has been processed\n",
      "Tweets 240000 of 400000 has been processed\n",
      "Tweets 250000 of 400000 has been processed\n",
      "Tweets 260000 of 400000 has been processed\n",
      "Tweets 270000 of 400000 has been processed\n",
      "Tweets 280000 of 400000 has been processed\n",
      "Tweets 290000 of 400000 has been processed\n",
      "Tweets 300000 of 400000 has been processed\n",
      "Tweets 310000 of 400000 has been processed\n",
      "Tweets 320000 of 400000 has been processed\n",
      "Tweets 330000 of 400000 has been processed\n",
      "Tweets 340000 of 400000 has been processed\n",
      "Tweets 350000 of 400000 has been processed\n",
      "Tweets 360000 of 400000 has been processed\n",
      "Tweets 370000 of 400000 has been processed\n",
      "Tweets 380000 of 400000 has been processed\n",
      "Tweets 390000 of 400000 has been processed\n",
      "Tweets 400000 of 400000 has been processed\n"
     ]
    }
   ],
   "source": [
    "nums = [0,400000,800000,1200000,1600000]\n",
    "print (\"Cleaning and parsing the tweets...\\n\")\n",
    "clean_tweet_texts = []\n",
    "for i in range(nums[0],nums[1]):\n",
    "    if( (i+1)%10000 == 0 ):\n",
    "        print (\"Tweets {} of {} has been processed\".format( i+1, nums[1] ))                                                                    \n",
    "    clean_tweet_texts.append(tweet_cleaner(df['text'][i]))"
   ]
  },
  {
   "cell_type": "code",
   "execution_count": 26,
   "metadata": {},
   "outputs": [
    {
     "output_type": "execute_result",
     "data": {
      "text/plain": [
       "                                                text  target\n",
       "0  awww that s a bummer you shoulda got david car...       0\n",
       "1  is upset that he can t update his facebook by ...       0\n",
       "2  i dived many times for the ball managed to sav...       0\n",
       "3     my whole body feels itchy and like its on fire       0\n",
       "4  no it s not behaving at all i m mad why am i h...       0"
      ],
      "text/html": "<div>\n<style scoped>\n    .dataframe tbody tr th:only-of-type {\n        vertical-align: middle;\n    }\n\n    .dataframe tbody tr th {\n        vertical-align: top;\n    }\n\n    .dataframe thead th {\n        text-align: right;\n    }\n</style>\n<table border=\"1\" class=\"dataframe\">\n  <thead>\n    <tr style=\"text-align: right;\">\n      <th></th>\n      <th>text</th>\n      <th>target</th>\n    </tr>\n  </thead>\n  <tbody>\n    <tr>\n      <th>0</th>\n      <td>awww that s a bummer you shoulda got david car...</td>\n      <td>0</td>\n    </tr>\n    <tr>\n      <th>1</th>\n      <td>is upset that he can t update his facebook by ...</td>\n      <td>0</td>\n    </tr>\n    <tr>\n      <th>2</th>\n      <td>i dived many times for the ball managed to sav...</td>\n      <td>0</td>\n    </tr>\n    <tr>\n      <th>3</th>\n      <td>my whole body feels itchy and like its on fire</td>\n      <td>0</td>\n    </tr>\n    <tr>\n      <th>4</th>\n      <td>no it s not behaving at all i m mad why am i h...</td>\n      <td>0</td>\n    </tr>\n  </tbody>\n</table>\n</div>"
     },
     "metadata": {},
     "execution_count": 26
    }
   ],
   "source": [
    "clean_df = pd.DataFrame(clean_tweet_texts,columns=['text'])\n",
    "clean_df['target'] = df.polarity\n",
    "clean_df.head()"
   ]
  },
  {
   "cell_type": "code",
   "execution_count": 27,
   "metadata": {},
   "outputs": [
    {
     "output_type": "execute_result",
     "data": {
      "text/plain": [
       "                                                text  target\n",
       "0  awww that s a bummer you shoulda got david car...       0\n",
       "1  is upset that he can t update his facebook by ...       0\n",
       "2  i dived many times for the ball managed to sav...       0\n",
       "3     my whole body feels itchy and like its on fire       0\n",
       "4  no it s not behaving at all i m mad why am i h...       0"
      ],
      "text/html": "<div>\n<style scoped>\n    .dataframe tbody tr th:only-of-type {\n        vertical-align: middle;\n    }\n\n    .dataframe tbody tr th {\n        vertical-align: top;\n    }\n\n    .dataframe thead th {\n        text-align: right;\n    }\n</style>\n<table border=\"1\" class=\"dataframe\">\n  <thead>\n    <tr style=\"text-align: right;\">\n      <th></th>\n      <th>text</th>\n      <th>target</th>\n    </tr>\n  </thead>\n  <tbody>\n    <tr>\n      <th>0</th>\n      <td>awww that s a bummer you shoulda got david car...</td>\n      <td>0</td>\n    </tr>\n    <tr>\n      <th>1</th>\n      <td>is upset that he can t update his facebook by ...</td>\n      <td>0</td>\n    </tr>\n    <tr>\n      <th>2</th>\n      <td>i dived many times for the ball managed to sav...</td>\n      <td>0</td>\n    </tr>\n    <tr>\n      <th>3</th>\n      <td>my whole body feels itchy and like its on fire</td>\n      <td>0</td>\n    </tr>\n    <tr>\n      <th>4</th>\n      <td>no it s not behaving at all i m mad why am i h...</td>\n      <td>0</td>\n    </tr>\n  </tbody>\n</table>\n</div>"
     },
     "metadata": {},
     "execution_count": 27
    }
   ],
   "source": [
    "clean_df.to_csv('clean_tweet.csv',encoding='utf-8')\n",
    "csv = 'clean_tweet.csv'\n",
    "my_df = pd.read_csv(csv,index_col=0)\n",
    "my_df.head()"
   ]
  },
  {
   "cell_type": "code",
   "execution_count": null,
   "metadata": {},
   "outputs": [],
   "source": []
  }
 ]
}